{
 "cells": [
  {
   "cell_type": "markdown",
   "metadata": {},
   "source": [
    "### Variables: \n",
    " variables are used to store data values. A variable is essentially a name that refers to a value. You don't need to declare the type of a variable explicitly in Python; the type is determined dynamically based on the value assigned to it. Here's an overview of variables in Python, including how to create them, naming conventions, and some examples."
   ]
  },
  {
   "cell_type": "code",
   "execution_count": null,
   "metadata": {},
   "outputs": [],
   "source": [
    "# Creating Variables\n",
    "# You create a variable by assigning a value to it using the = operator.\n",
    "\n",
    "my_Name = \"AbdulRehman\"\n",
    "print(my_Name)\n"
   ]
  },
  {
   "cell_type": "markdown",
   "metadata": {},
   "source": [
    "## Data Types:\n",
    "\n",
    "Python has several built-in data types that can be categorized as follows:\n",
    "\n",
    "- str: String, e.g., \"hello\"\n",
    "- int: Integer, e.g., 42\n",
    "- float: Floating point number, e.g., 3.14\n",
    "- bool: Boolean, e.g., True or False\n",
    "- NoneType: Represents the absence of a value, e.g., None"
   ]
  },
  {
   "cell_type": "code",
   "execution_count": null,
   "metadata": {},
   "outputs": [],
   "source": [
    "# Creating variables\n",
    "x = 10         # Integer\n",
    "y = 3.14       # Float\n",
    "name = \"Alice\" # String\n",
    "is_valid = True # Boolean\n",
    "i = None # None\n",
    "\n",
    "print(x)\n",
    "print(y)\n",
    "print(name)\n",
    "print(is_valid)\n",
    "print(type(i))  "
   ]
  }
 ],
 "metadata": {
  "kernelspec": {
   "display_name": "Python 3",
   "language": "python",
   "name": "python3"
  },
  "language_info": {
   "codemirror_mode": {
    "name": "ipython",
    "version": 3
   },
   "file_extension": ".py",
   "mimetype": "text/x-python",
   "name": "python",
   "nbconvert_exporter": "python",
   "pygments_lexer": "ipython3",
   "version": "3.12.3"
  }
 },
 "nbformat": 4,
 "nbformat_minor": 2
}
