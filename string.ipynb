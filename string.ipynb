{
 "cells": [
  {
   "cell_type": "markdown",
   "metadata": {},
   "source": [
    "# **Strings Methods:**"
   ]
  },
  {
   "cell_type": "markdown",
   "metadata": {},
   "source": [
    "## **String Slice:**\n",
    "\n",
    "String slicing in Python allows you to access a substring of a string by specifying a range of indices. The syntax for string slicing is:\n",
    "\n",
    "``` string[start:stop:step] ```\n",
    "\n",
    "- start is the index where the slice begins (inclusive).\n",
    "- stop is the index where the slice ends (exclusive).\n",
    "- step is the interval between each character in the slice (optional)."
   ]
  },
  {
   "cell_type": "code",
   "execution_count": null,
   "metadata": {},
   "outputs": [],
   "source": [
    "s = \"Hello World\"\n",
    "\n",
    "# Slice from index 0 to 5 (excluding 5)\n",
    "slice1 = s[0:5]\n",
    "print(slice1) # Hello\n",
    "\n",
    "\n",
    "# Slice from index 7 to the end\n",
    "slice2 = s[7:]\n",
    "print(slice2) # orld\n",
    "\n",
    "# Slice from the beginning to index 5 (excluding 5)\n",
    "slice3 = s[:5]\n",
    "print(slice3) # Hello\n",
    "\n",
    "# Slice the entire string\n",
    "slice4 = s[:]\n",
    "print(slice4) # Hello World"
   ]
  },
  {
   "cell_type": "markdown",
   "metadata": {},
   "source": [
    "## **Slicing with Skip Value**"
   ]
  },
  {
   "cell_type": "code",
   "execution_count": null,
   "metadata": {},
   "outputs": [],
   "source": [
    "# Slice with a step of 2\n",
    "slice5 = s[::2]\n",
    "print(slice5)  # Hlowrd\n",
    "\n",
    "# Slice from index 1 to 8 with a step of 2\n",
    "slice6 = s[1:8:2]\n",
    "print(slice6)  # el w0\n",
    "\n",
    "# Negative indices: slice from index -6 to the end\n",
    "slice7 = s[-6:]\n",
    "print(slice7) # World\n",
    "\n",
    "# Negative step: reverse the string\n",
    "slice8 = s[::-1]\n",
    "print(slice8) # dlroW olleH"
   ]
  },
  {
   "cell_type": "markdown",
   "metadata": {},
   "source": [
    "## **String Function**:"
   ]
  },
  {
   "cell_type": "code",
   "execution_count": null,
   "metadata": {},
   "outputs": [],
   "source": [
    "# capitalize() : Capitalizes the first character of the string.\n",
    "string = \"hello world\"\n",
    "print(string.capitalize()) # Hello world\n",
    "\n",
    "# casefold(): Converts the string to lowercase in a way that is suitable for caseless comparisons.\n",
    "string1 = \"HELLO WORLD\"    \n",
    "print(string.casefold()) # hello world\n",
    "\n",
    "# endswith(): Returns True if the string ends with the given number.\n",
    "string2 = 'AbdulRehman'\n",
    "print(string2.endswith(\"man\")) # True\n",
    "\n",
    "# center(width[, fillchar]): Centers the string in a field of specified width.\n",
    "string3 = \"Hello\"\n",
    "print(string3.center(10 , \"-\")) # --Hello---\n",
    "\n",
    "# count(sub[, start[, end]]): Returns the number of non-overlapping occurrences of a substring.\n",
    "string4 = \"Hello World\"\n",
    "print(string4.count(\"l\")) # 3\n",
    "print(string4.count(\"o\")) # 2 \n",
    "\n",
    "# find(sub[, start[, end]]): Returns the lowest index of the substring.\n",
    "string5 = \"Hello World\"\n",
    "print(string5.find('W')) # 6\n",
    "print(string5.find('l')) # 2\n",
    "\n",
    "# index(sub[, start[, end]]): Returns the lowest index of the substring, raises ValueError if not found.\n",
    "string6 = \"Hello World\"\n",
    "print(string.index(\"o\")) # 4\n",
    "\n",
    "# isalnum(): Checks if all characters are alphanumeric.\n",
    "string7 = \"hello123\"\n",
    "print(string7.isalnum()) # True\n",
    "\n",
    "#isalpha(): Checks if all characters are alphabetic.\n",
    "string8 = \"hello\"\n",
    "print(string8.isalpha()) # True\n",
    "\n",
    "# expandtabs([tabsize]): Replaces tabs with spaces.\n",
    "string9 = \"hello\\tworld\"\n",
    "print(string9.expandtabs(10)) # hello     world\n",
    "\n",
    "# join(iterable): Joins elements of an iterable with the string as a separator.\n",
    "string11 = \"-\"\n",
    "print(string11.join([\"a\",\"b\",\"c\",\"d\"])) # a-b-c-d\n",
    "\n",
    "# replace(old, new[, count]): Replaces occurrences of a substring.\n",
    "string12 = 'Hello World'\n",
    "print(string12.replace(\"World\", \"Python\")) # Hello Python\n",
    "\n",
    "# split(sep=None, maxsplit=-1): Splits the string.\n",
    "string13 = \"a b c d e\"\n",
    "print(string13.split()) # ['a', 'b', 'c', 'd', 'e']\n",
    "\n",
    "# The len() function in Python is used to determine the length (number of items) of an object.\n",
    "s = \"Hello, World!\"\n",
    "print(len(s))  # Output: 13\n",
    "\n",
    "lst = [1, 2, 3, 4, 5]\n",
    "print(len(lst))  # Output: 5\n",
    "\n",
    "tup = (1, 2, 3)\n",
    "print(len(tup))  # Output: 3"
   ]
  }
 ],
 "metadata": {
  "kernelspec": {
   "display_name": "Python 3",
   "language": "python",
   "name": "python3"
  },
  "language_info": {
   "codemirror_mode": {
    "name": "ipython",
    "version": 3
   },
   "file_extension": ".py",
   "mimetype": "text/x-python",
   "name": "python",
   "nbconvert_exporter": "python",
   "pygments_lexer": "ipython3",
   "version": "3.12.3"
  }
 },
 "nbformat": 4,
 "nbformat_minor": 2
}
